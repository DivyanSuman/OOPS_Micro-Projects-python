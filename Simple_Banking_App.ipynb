{
  "nbformat": 4,
  "nbformat_minor": 0,
  "metadata": {
    "colab": {
      "provenance": []
    },
    "kernelspec": {
      "name": "python3",
      "display_name": "Python 3"
    },
    "language_info": {
      "name": "python"
    }
  },
  "cells": [
    {
      "cell_type": "markdown",
      "source": [
        "**Simple Banking System**\n",
        "\n",
        "Project Idea: Develop a basic banking system that allows users to create accounts, deposit, withdraw, and check balances. Each user account can be an object.\n",
        "\n",
        "Why It’s Great for Beginners: This project introduces you to the idea of encapsulation, where you hide the internal details of an object and expose only the necessary methods."
      ],
      "metadata": {
        "id": "F7vFwv_stVOf"
      }
    },
    {
      "cell_type": "code",
      "execution_count": 2,
      "metadata": {
        "id": "R8d7PWFBtUPo"
      },
      "outputs": [],
      "source": [
        "class Account:\n",
        "\n",
        "    def __init__(self, name, balance = 0):\n",
        "        self.name = name\n",
        "        self.bal = balance\n",
        "\n",
        "    def deposite(self, amount):\n",
        "        # deposite only happens when ammount is more tha zero.\n",
        "        if amount >0:\n",
        "            self.bal += amount\n",
        "        else:\n",
        "            print(\"Invalid deposite Amount\")\n",
        "\n",
        "    def withdraw(self, amount):\n",
        "        # amount must be grater than zero\n",
        "        # amount must be less than balance\n",
        "        if amount < 0:\n",
        "            print('Invalid Withdrawal amount')\n",
        "        elif amount < self.bal:\n",
        "            self.bal -= amount\n",
        "        else:\n",
        "            print('Insufficient Funds')\n",
        "\n",
        "    def check_balance(self):\n",
        "        print(f'current balance for {self.name} : Rs {self.bal}')"
      ]
    },
    {
      "cell_type": "code",
      "source": [
        "# Examples\n",
        "# lets say John has 5000 and Marry has 10000 in their account.\n",
        "acc1 = Account('John', 5000)\n",
        "acc2 = Account('Marry', 10000)\n",
        "\n",
        "# 15th of this month they get their sallery of 4000 and 6000 respecively.\n",
        "acc1.deposite(4000)\n",
        "acc2.deposite(6000)\n",
        "\n",
        "acc1.check_balance()\n",
        "acc2.check_balance()\n",
        "\n",
        "# rent paid by them was 500 and 1000 respectively.\n",
        "acc1.withdraw(500)\n",
        "acc2.withdraw(1000)\n",
        "\n",
        "acc1.check_balance()\n",
        "acc2.check_balance()"
      ],
      "metadata": {
        "colab": {
          "base_uri": "https://localhost:8080/"
        },
        "id": "dQ_9DbUBv_-W",
        "outputId": "7fbda52a-cb79-4d3b-e12b-b732a0760ae2"
      },
      "execution_count": 3,
      "outputs": [
        {
          "output_type": "stream",
          "name": "stdout",
          "text": [
            "current balance for John : 9000\n",
            "current balance for Marry : 16000\n",
            "current balance for John : 8500\n",
            "current balance for Marry : 15000\n"
          ]
        }
      ]
    }
  ]
}