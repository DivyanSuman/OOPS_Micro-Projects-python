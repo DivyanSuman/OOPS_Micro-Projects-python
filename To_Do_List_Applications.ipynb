{
  "nbformat": 4,
  "nbformat_minor": 0,
  "metadata": {
    "colab": {
      "provenance": []
    },
    "kernelspec": {
      "name": "python3",
      "display_name": "Python 3"
    },
    "language_info": {
      "name": "python"
    }
  },
  "cells": [
    {
      "cell_type": "code",
      "execution_count": 25,
      "metadata": {
        "colab": {
          "base_uri": "https://localhost:8080/"
        },
        "id": "oGg6IGgl8_Yv",
        "outputId": "f0873d91-48a7-4b25-810a-7afdecf446d5"
      },
      "outputs": [
        {
          "output_type": "stream",
          "name": "stdout",
          "text": [
            " index         name   Due_date Priority\n",
            "     1 Larn English 05-03-2024      Low\n",
            "     2 Learn Python 20-04-2024     High\n",
            "     3       Larn C 05-06-2024     High\n",
            "     4    Learn C++ 20-06-2024     High\n"
          ]
        }
      ],
      "source": [
        "import pandas as pd\n",
        "class Task:\n",
        "    def __init__(self, name, due_date, priority):\n",
        "        self.name = name\n",
        "        self.due_date = due_date\n",
        "        self.priority = priority\n",
        "\n",
        "class To_Do_List:\n",
        "    def __init__(self):\n",
        "        self.tasks = []\n",
        "\n",
        "    def add_tasks (self, task):\n",
        "        self.tasks.append(task)\n",
        "\n",
        "    def del_tasks (self, task_name):\n",
        "        for task in self.tasks[:]:\n",
        "            if task.name == task_name:\n",
        "                self.tasks.remove(task)\n",
        "\n",
        "    def display_tasks (self):\n",
        "        tasks = []\n",
        "        if not self.tasks:\n",
        "            print('No tasks in To Do List')\n",
        "        else:\n",
        "            for index, value in enumerate(self.tasks, start = 1):\n",
        "                task ={\n",
        "                    'index': index,\n",
        "                    'name': value.name,\n",
        "                    'Due_date': value.due_date,\n",
        "                    'Priority': value.priority\n",
        "                }\n",
        "                tasks.append(task)\n",
        "            tasks = pd.DataFrame(tasks)\n",
        "            print(tasks.to_string(index = False))\n",
        "\n",
        "\n",
        "\n",
        "t1 = Task('Learn English', '05-03-2024', 'Low')\n",
        "t2 = Task('Learn Python', '20-04-2024', 'High')\n",
        "t3 = Task('Larn C', '05-06-2024', 'High')\n",
        "t4 = Task('Learn C++', '20-06-2024', 'High')\n",
        "\n",
        "\n",
        "to_do = To_Do_List()\n",
        "to_do.add_tasks(t1)\n",
        "to_do.add_tasks(t2)\n",
        "to_do.add_tasks(t3)\n",
        "to_do.add_tasks(t4)\n",
        "\n",
        "to_do.display_tasks()"
      ]
    },
    {
      "cell_type": "code",
      "source": [
        "# Examples of adding creating task\n",
        "t1 = Task('Learn English', '05-03-2024', 'Low')\n",
        "t2 = Task('Learn Python', '20-04-2024', 'High')\n",
        "t3 = Task('Larn C', '05-06-2024', 'High')\n",
        "t4 = Task('Learn C++', '20-06-2024', 'High')\n",
        "\n",
        "# Examples of uses of To_Do_List\n",
        "to_do = To_Do_List()\n",
        "to_do.add_tasks(t1)\n",
        "to_do.add_tasks(t2)\n",
        "to_do.add_tasks(t3)\n",
        "to_do.add_tasks(t4)\n",
        "to_do.del_tasks('Larn C')\n",
        "to_do.display_tasks()"
      ],
      "metadata": {
        "colab": {
          "base_uri": "https://localhost:8080/"
        },
        "id": "ANdWfB7CVh4p",
        "outputId": "66904d43-1f43-4920-dc2a-0f0d4f4ca8d9"
      },
      "execution_count": 29,
      "outputs": [
        {
          "output_type": "stream",
          "name": "stdout",
          "text": [
            " index          name   Due_date Priority\n",
            "     1 Learn English 05-03-2024      Low\n",
            "     2  Learn Python 20-04-2024     High\n",
            "     3     Learn C++ 20-06-2024     High\n"
          ]
        }
      ]
    }
  ]
}